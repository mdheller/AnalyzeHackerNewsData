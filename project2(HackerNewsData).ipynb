{
 "cells": [
  {
   "cell_type": "markdown",
   "metadata": {},
   "source": [
    "# Analyzing Hacker News Data\n",
    "\n",
    "In this project, we analyze Hacker News data from the post that are made on the site. We want to ultimately see if the posts of type \"Show HN\" (show Hacker News) or \"Ask NH\" (ask Hacker News) produce the most traffic and interactions.\n",
    "\n",
    "First, let's import the data set, explore its size and remove the entries that have no comments."
   ]
  },
  {
   "cell_type": "code",
   "execution_count": 1,
   "metadata": {},
   "outputs": [
    {
     "name": "stdout",
     "output_type": "stream",
     "text": [
      "['id', 'title', 'url', 'num_points', 'num_comments', 'author', 'created_at']\n",
      "Data set length is: 293119\n"
     ]
    }
   ],
   "source": [
    "from csv import reader\n",
    "opened_file = open(r'C:\\Users\\renau\\DATA_SCIENCE\\project2(HackerNewsData)\\HN_posts_year_to_Sep_26_2016.csv', encoding=\"utf8\")\n",
    "read_file = reader(opened_file)\n",
    "hn_dataset = list(read_file)\n",
    "\n",
    "hn_dataset_head = hn_dataset[0]\n",
    "hn_dataset = hn_dataset[1:]\n",
    "\n",
    "print(hn_dataset_head)\n",
    "print(\"Data set length is: \" + str(len(hn_dataset)))\n",
    "        "
   ]
  },
  {
   "cell_type": "code",
   "execution_count": 10,
   "metadata": {},
   "outputs": [
    {
     "name": "stdout",
     "output_type": "stream",
     "text": [
      "Data set length is: 80401\n"
     ]
    }
   ],
   "source": [
    "index = 0\n",
    "for row in hn_dataset:\n",
    "    if row[4] == \"0\":\n",
    "        del hn_dataset[index]\n",
    "    index += 1\n",
    "        \n",
    "print(\"Data set length is: \" + str(len(hn_dataset)))"
   ]
  },
  {
   "cell_type": "code",
   "execution_count": 11,
   "metadata": {},
   "outputs": [
    {
     "name": "stdout",
     "output_type": "stream",
     "text": [
      "[['12578975', 'Saving the Hassle of Shopping', 'https://blog.menswr.com/2016/09/07/whats-new-with-your-style-feed/', '1', '1', 'bdoux', '9/26/2016 3:13'], ['12578908', 'Ask HN: What TLD do you use for local development?', '', '4', '7', 'Sevrene', '9/26/2016 2:53'], ['12578822', 'Amazons Algorithms Dont Find You the Best Deals', 'https://www.technologyreview.com/s/602442/amazons-algorithms-dont-find-you-the-best-deals/', '1', '1', 'yarapavan', '9/26/2016 2:26'], ['12578694', 'Emergency dose of epinephrine that does not cost an arm and a leg', 'http://m.imgur.com/gallery/th6Ua', '2', '1', 'dredmorbius', '9/26/2016 1:54'], ['12578624', 'Phone Makers Could Cut Off Drivers. So Why Dont They?', 'http://www.nytimes.com/2016/09/25/technology/phone-makers-could-cut-off-drivers-so-why-dont-they.html', '4', '1', 'danso', '9/26/2016 1:37']]\n"
     ]
    }
   ],
   "source": [
    "print(hn_dataset[:5])"
   ]
  },
  {
   "cell_type": "markdown",
   "metadata": {},
   "source": [
    "Now let's separate the posts on wether they are \"Ask NH\", \"Show NH\" or \"Other\""
   ]
  },
  {
   "cell_type": "code",
   "execution_count": 17,
   "metadata": {},
   "outputs": [
    {
     "name": "stdout",
     "output_type": "stream",
     "text": [
      "6911\n",
      "5059\n",
      "68431\n"
     ]
    }
   ],
   "source": [
    "ask_posts = []\n",
    "show_posts= []\n",
    "other_posts = []\n",
    "for row in hn_dataset:\n",
    "    title = row[1].lower()\n",
    "    if title.startswith('ask hn'):\n",
    "        ask_posts.append(row)\n",
    "    elif title.startswith('show hn'):\n",
    "        show_posts.append(row)\n",
    "    else:\n",
    "        other_posts.append(row)\n",
    "        \n",
    "print(len(ask_posts))\n",
    "print(len(show_posts))\n",
    "print(len(other_posts))\n",
    "    "
   ]
  },
  {
   "cell_type": "markdown",
   "metadata": {},
   "source": [
    "Now let's calculate the number of comments generated on average on \"Ask HN\" and \"Show HN\" posts."
   ]
  },
  {
   "cell_type": "code",
   "execution_count": 20,
   "metadata": {},
   "outputs": [
    {
     "name": "stdout",
     "output_type": "stream",
     "text": [
      "Average comments per post ask HN: 14\n",
      "Average comments per post show HN: 10\n"
     ]
    }
   ],
   "source": [
    "def mean_calc(dataset, index):\n",
    "    total = 0\n",
    "    for row in dataset:\n",
    "        total += int(row[index])\n",
    "    mean = total / len(dataset)\n",
    "    return mean\n",
    "\n",
    "avg_comments_ask = mean_calc(ask_posts, 4)\n",
    "avg_comments_show = mean_calc(show_posts, 4)\n",
    "\n",
    "print(\"Average comments per post ask HN: \" + str(round(avg_comments_ask)))\n",
    "print(\"Average comments per post show HN: \" + str(round(avg_comments_show)))"
   ]
  },
  {
   "cell_type": "markdown",
   "metadata": {},
   "source": [
    "We can see that \"Ask HN\" post generate substantially more comments on average. It make sense since the person who write the post expect to receive some help/feedback from the readers.\n",
    "\n",
    "Now, we'll analyze if there is a correlation between the time at which a post is made and the comments that it receives. "
   ]
  },
  {
   "cell_type": "code",
   "execution_count": 37,
   "metadata": {},
   "outputs": [
    {
     "name": "stdout",
     "output_type": "stream",
     "text": [
      "Articles published and each hour of the day:\n",
      "{'02': 227, '01': 223, '22': 287, '21': 407, '19': 420, '17': 404, '15': 467, '14': 378, '13': 326, '11': 251, '10': 219, '09': 176, '07': 157, '03': 212, '16': 415, '08': 190, '00': 231, '23': 276, '20': 392, '18': 452, '12': 274, '04': 186, '06': 176, '05': 165}\n",
      "Total number of comments on the articles published at each hour of the day\n",
      "{'02': 2996, '01': 2089, '22': 3372, '21': 4500, '19': 3954, '17': 5547, '15': 18525, '14': 4972, '13': 7245, '11': 2797, '10': 3013, '09': 1477, '07': 1585, '03': 2154, '16': 4466, '08': 2362, '00': 2277, '23': 2297, '20': 4462, '18': 4877, '12': 4234, '04': 2360, '06': 1587, '05': 1838}\n"
     ]
    }
   ],
   "source": [
    "import datetime as dt\n",
    "def extract_data(dataset, index_list):\n",
    "    # Extract desired columns of a dataset \n",
    "    # We use this function to extract the dates of the post and the number of\n",
    "    # comments\n",
    "    result_list = []\n",
    "    for row in dataset:\n",
    "        result = []\n",
    "        for index in index_list:\n",
    "            result.append(row[index])\n",
    "        result_list.append(result)\n",
    "    return result_list\n",
    "\n",
    "def change_to_int(dataset, index):\n",
    "    for row in dataset:\n",
    "        row[index] = int(row[index])\n",
    "    return dataset\n",
    "\n",
    "def change_to_datetime(dataset, index):\n",
    "    template = \"%m/%d/%Y %H:%M\"\n",
    "    for row in dataset:\n",
    "        formatted = dt.datetime.strptime(row[index], template)\n",
    "        row[index] = formatted\n",
    "    return dataset\n",
    "\n",
    "def count_per_hour(dataset):\n",
    "    # Takes the formatted dataset with index 0 being a datetime object and \n",
    "    # index 1 being an int of the comment number\n",
    "    counts_by_hour = {}\n",
    "    comments_by_hour = {}\n",
    "    for row in dataset:\n",
    "        time = row[0]\n",
    "        comments = row[1]\n",
    "        hour = time.strftime('%H')\n",
    "        if hour in counts_by_hour:\n",
    "            counts_by_hour[hour] += 1\n",
    "            comments_by_hour[hour] += comments\n",
    "        elif hour not in counts_by_hour:\n",
    "            counts_by_hour[hour] = 1\n",
    "            comments_by_hour[hour] = comments\n",
    "    return counts_by_hour, comments_by_hour\n",
    "\n",
    "ask_data_extract = extract_data(ask_posts, [6, 4])\n",
    "ask_data_extract = change_to_int(ask_data_extract, 1)\n",
    "ask_data_extract = change_to_datetime(ask_data_extract, 0)\n",
    "counts_by_hour, comments_by_hour = count_per_hour(ask_data_extract)\n",
    "print(\"Articles published and each hour of the day:\")\n",
    "print(counts_by_hour)\n",
    "print(\"Total number of comments on the articles published at each hour of the day\")\n",
    "print(comments_by_hour)\n"
   ]
  },
  {
   "cell_type": "markdown",
   "metadata": {},
   "source": [
    "We can now use these dictionnaries to calculate to average number on comments per article for each hour of the day."
   ]
  },
  {
   "cell_type": "code",
   "execution_count": 39,
   "metadata": {},
   "outputs": [
    {
     "name": "stdout",
     "output_type": "stream",
     "text": [
      "Average comments per article published at each hour of the day\n",
      "[['02', 13], ['01', 9], ['22', 12], ['21', 11], ['19', 9], ['17', 14], ['15', 40], ['14', 13], ['13', 22], ['11', 11], ['10', 14], ['09', 8], ['07', 10], ['03', 10], ['16', 11], ['08', 12], ['00', 10], ['23', 8], ['20', 11], ['18', 11], ['12', 15], ['04', 13], ['06', 9], ['05', 11]]\n"
     ]
    }
   ],
   "source": [
    "avg_comments_by_hour = []\n",
    "for key in counts_by_hour:\n",
    "    hour = key\n",
    "    average = round(comments_by_hour[key] / counts_by_hour[key]) \n",
    "    avg_comments_by_hour.append([hour, average])\n",
    "\n",
    "print(\"Average comments per article published at each hour of the day\")\n",
    "print(avg_comments_by_hour)"
   ]
  },
  {
   "cell_type": "markdown",
   "metadata": {},
   "source": [
    "Now let's organize this info a little bit better"
   ]
  },
  {
   "cell_type": "code",
   "execution_count": 55,
   "metadata": {},
   "outputs": [
    {
     "name": "stdout",
     "output_type": "stream",
     "text": [
      "Top 5 hours for Ask HN posts comments\n",
      "15:00 with and average comments per post of 40\n",
      "13:00 with and average comments per post of 22\n",
      "12:00 with and average comments per post of 15\n",
      "17:00 with and average comments per post of 14\n",
      "10:00 with and average comments per post of 14\n"
     ]
    }
   ],
   "source": [
    "swap_avg_by_hour = []\n",
    "for pair in avg_comments_by_hour:\n",
    "    swap_avg_by_hour.append([pair[1], pair[0]])\n",
    "    \n",
    "sorted_swap = sorted(swap_avg_by_hour, reverse = True)\n",
    "print(\"Top 5 hours for Ask HN posts comments\")\n",
    "\n",
    "for pair in sorted_swap[0:5]:\n",
    "    time = dt.datetime.strptime(pair[1], '%H')\n",
    "    avg = pair[0]\n",
    "    time = time.strftime('%H')\n",
    "    template = \"{time}:00 with and average comments per post of {avg}\"\n",
    "    print(template.format(time = time, avg = avg))\n",
    "    "
   ]
  },
  {
   "cell_type": "markdown",
   "metadata": {},
   "source": [
    "We can see that the best time to post something is at 3 P.M. by far Eastern time!"
   ]
  },
  {
   "cell_type": "code",
   "execution_count": null,
   "metadata": {},
   "outputs": [],
   "source": []
  }
 ],
 "metadata": {
  "kernelspec": {
   "display_name": "Python 3",
   "language": "python",
   "name": "python3"
  },
  "language_info": {
   "codemirror_mode": {
    "name": "ipython",
    "version": 3
   },
   "file_extension": ".py",
   "mimetype": "text/x-python",
   "name": "python",
   "nbconvert_exporter": "python",
   "pygments_lexer": "ipython3",
   "version": "3.7.3"
  }
 },
 "nbformat": 4,
 "nbformat_minor": 2
}
